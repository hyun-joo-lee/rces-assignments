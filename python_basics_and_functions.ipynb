{
 "cells": [
  {
   "cell_type": "markdown",
   "metadata": {},
   "source": [
    "# Assignment: Basic Python\n",
    "\n",
    "\n",
    "```{admonition} Learning Goals\n",
    ":class: tip\n",
    "\n",
    "This assignment will verify that you have the following skills:\n",
    "- Create lists and dictionaries\n",
    "- Iterate through lists, tuples, and dictionaries\n",
    "- Index sequences (e.g. lists and tuples)\n",
    "- Define functions\n",
    "- Use optional keyword arguments in functions\n",
    "```"
   ]
  },
  {
   "cell_type": "markdown",
   "metadata": {},
   "source": [
    "## Part I: Lists and Loops\n",
    "\n",
    "In this problem, we will explore the basic data structures and flow controls of Python by _manually creating data structures_.\n",
    "\n",
    "\n",
    "```{warning}\n",
    "Pluto is [not a planet any more](https://www.loc.gov/everyday-mysteries/item/why-is-pluto-no-longer-a-planet/).\n",
    "```"
   ]
  },
  {
   "cell_type": "markdown",
   "metadata": {},
   "source": [
    "### 1) Create a list with the names of every planet in the solar system (in order)"
   ]
  },
  {
   "cell_type": "code",
   "execution_count": 1,
   "metadata": {},
   "outputs": [],
   "source": [
    "planets = [\"Mercury\", \"Venus\", \"Earth\", \"Mars\", \"Jupiter\", \"Saturn\", \"Uranus\", \"Neptune\"]"
   ]
  },
  {
   "cell_type": "markdown",
   "metadata": {
    "tags": []
   },
   "source": [
    "### 2) Have Python tell you how many planets there are by examining your list"
   ]
  },
  {
   "cell_type": "code",
   "execution_count": 2,
   "metadata": {},
   "outputs": [
    {
     "data": {
      "text/plain": [
       "8"
      ]
     },
     "execution_count": 2,
     "metadata": {},
     "output_type": "execute_result"
    }
   ],
   "source": [
    "len(planets)"
   ]
  },
  {
   "cell_type": "markdown",
   "metadata": {},
   "source": [
    "### 3) Use slicing to display the first four planets (the rocky planets)"
   ]
  },
  {
   "cell_type": "code",
   "execution_count": 3,
   "metadata": {},
   "outputs": [
    {
     "data": {
      "text/plain": [
       "['Mercury', 'Venus', 'Earth', 'Mars']"
      ]
     },
     "execution_count": 3,
     "metadata": {},
     "output_type": "execute_result"
    }
   ],
   "source": [
    "planets[0:4]"
   ]
  },
  {
   "cell_type": "markdown",
   "metadata": {},
   "source": [
    "### 4) Iterate through your planets and print the planet name only if it has an `s` at the end"
   ]
  },
  {
   "cell_type": "code",
   "execution_count": 4,
   "metadata": {},
   "outputs": [
    {
     "name": "stdout",
     "output_type": "stream",
     "text": [
      "Venus\n",
      "Mars\n",
      "Uranus\n"
     ]
    }
   ],
   "source": [
    "for x in planets:\n",
    "    if x.endswith(\"s\"):\n",
    "        print(x)"
   ]
  },
  {
   "cell_type": "markdown",
   "metadata": {},
   "source": [
    "## Part II: Dictionaries\n",
    "\n",
    "### 1) Now create a dictionary that maps each planet name to its mass\n",
    "\n",
    "You can use values from this [NASA fact sheet](https://nssdc.gsfc.nasa.gov/planetary/factsheet/).\n",
    "You can use whatever units you want, but be consistent."
   ]
  },
  {
   "cell_type": "code",
   "execution_count": 5,
   "metadata": {},
   "outputs": [
    {
     "data": {
      "text/plain": [
       "{'Mercury': 0.33,\n",
       " 'Venus': 4.87,\n",
       " 'Earth': 5.97,\n",
       " 'Mars': 0.642,\n",
       " 'Jupiter': 1898,\n",
       " 'Saturn': 568,\n",
       " 'Uranus': 86.8,\n",
       " 'Neptune': 102,\n",
       " 'Pluto': 0.0146}"
      ]
     },
     "execution_count": 5,
     "metadata": {},
     "output_type": "execute_result"
    }
   ],
   "source": [
    "mass = [0.330, 4.87, 5.97, 0.642, 1898, 568, 86.8, 102]\n",
    "\n",
    "planets.append(\"Pluto\")\n",
    "mass.append(0.0146)\n",
    "\n",
    "planets_mass = dict(zip(planets, mass))\n",
    "planets_mass"
   ]
  },
  {
   "cell_type": "markdown",
   "metadata": {},
   "source": [
    "### 2) Use your dictionary to look up Earth's mass"
   ]
  },
  {
   "cell_type": "code",
   "execution_count": 6,
   "metadata": {},
   "outputs": [
    {
     "data": {
      "text/plain": [
       "5.97"
      ]
     },
     "execution_count": 6,
     "metadata": {},
     "output_type": "execute_result"
    }
   ],
   "source": [
    "planets_mass[\"Earth\"]"
   ]
  },
  {
   "cell_type": "markdown",
   "metadata": {
    "tags": []
   },
   "source": [
    "### 3) Loop through the data and create a list of planets whose mast is greater than 100 x 10^24 kg \n",
    "\n",
    "Display your result"
   ]
  },
  {
   "cell_type": "code",
   "execution_count": 7,
   "metadata": {},
   "outputs": [
    {
     "data": {
      "text/plain": [
       "['Jupiter', 'Saturn', 'Neptune']"
      ]
     },
     "execution_count": 7,
     "metadata": {},
     "output_type": "execute_result"
    }
   ],
   "source": [
    "heavy_planets = []\n",
    "for x in planets_mass:\n",
    "    if planets_mass[x]>100:\n",
    "        heavy_planets.append(x)\n",
    "\n",
    "heavy_planets"
   ]
  },
  {
   "cell_type": "markdown",
   "metadata": {
    "tags": []
   },
   "source": [
    "### 4) Now add pluto to your dictionary"
   ]
  },
  {
   "cell_type": "markdown",
   "metadata": {},
   "source": [
    "## Part III: Functions\n",
    "\n",
    "### 1. Write a function to convert temperature from kelvin to celsius\n",
    "\n",
    "and celsius to kelvin"
   ]
  },
  {
   "cell_type": "code",
   "execution_count": 8,
   "metadata": {},
   "outputs": [],
   "source": [
    "def K_to_C(x):\n",
    "    \"\"\"Convert temperature from kelvin to celsius\"\"\"\n",
    "    return x-273.15\n",
    "\n",
    "def C_to_K(x):\n",
    "    \"\"\"Convert temperature from celsius to kelvin\"\"\"\n",
    "    return x+273.15"
   ]
  },
  {
   "cell_type": "markdown",
   "metadata": {
    "tags": []
   },
   "source": [
    "### 2. Write a function to convert temperature to fahrenheit\n",
    "\n",
    "Include an optional keyword argument to specify whether the input is in  celcius or kelvin.\n",
    "Call your previously defined functions if necessary."
   ]
  },
  {
   "cell_type": "code",
   "execution_count": 9,
   "metadata": {},
   "outputs": [],
   "source": [
    "def T_to_F(x, celsius=False):\n",
    "    \"\"\"Convert temperature to fahrenheit\"\"\"\n",
    "    if celsius:\n",
    "        return (x*9/5) + 32\n",
    "    else:\n",
    "        return (K_to_C(x)*9/5) + 32"
   ]
  },
  {
   "cell_type": "markdown",
   "metadata": {},
   "source": [
    "### 3) Check that the outputs are sensible\n",
    "\n",
    "by trying a few examples"
   ]
  },
  {
   "cell_type": "code",
   "execution_count": 10,
   "metadata": {},
   "outputs": [
    {
     "name": "stdout",
     "output_type": "stream",
     "text": [
      "0.0\n",
      "298.15\n",
      "59.0\n",
      "77.0\n"
     ]
    }
   ],
   "source": [
    "print(K_to_C(273.15))\n",
    "print(C_to_K(25))\n",
    "print(T_to_F(15, celsius=True))\n",
    "print(T_to_F(298.15))"
   ]
  },
  {
   "cell_type": "markdown",
   "metadata": {},
   "source": [
    "### 4) Now write a function that converts _from_ farenheit\n",
    "\n",
    "and uses a keyword argument to specify whether you want the output in celcius or kelvin"
   ]
  },
  {
   "cell_type": "code",
   "execution_count": 11,
   "metadata": {},
   "outputs": [],
   "source": [
    "def F_to_T(x, celsius=False):\n",
    "    \"\"\"Convert from farenheit\"\"\"\n",
    "    if celsius:\n",
    "        return (x-32)*5/9\n",
    "    else:\n",
    "        return (x-32)*5/9+273.15"
   ]
  },
  {
   "cell_type": "markdown",
   "metadata": {},
   "source": [
    "### 5) Write a function that takes two arguments (feet and inches) and returns height in meters\n",
    "\n",
    "Verify it gives sensible answers"
   ]
  },
  {
   "cell_type": "code",
   "execution_count": 12,
   "metadata": {},
   "outputs": [],
   "source": [
    "def height_in_meters(feet, inches):\n",
    "    \"\"\"Convert feet and inches to meters\"\"\"\n",
    "    return str(feet/3.281) + \"m\", str(inches/39.37) + \"m\""
   ]
  },
  {
   "cell_type": "markdown",
   "metadata": {},
   "source": [
    "### 6. Write a function takes one argument (height in meters) and returns two arguments (feet and inches)\n",
    "\n",
    "(Consult the [tutorial on numbers](https://docs.python.org/3/tutorial/introduction.html#numbers) if you are stuck on how to implement this.)"
   ]
  },
  {
   "cell_type": "code",
   "execution_count": 13,
   "metadata": {},
   "outputs": [],
   "source": [
    "def meters_to_others(meters):\n",
    "    \"\"\"Convert meters to feet and inches\"\"\"\n",
    "    return str(meters*3.281) + \"feet\", str(meters*39.37) + \"inches\""
   ]
  },
  {
   "cell_type": "markdown",
   "metadata": {
    "tags": []
   },
   "source": [
    "### 7) Verify that the \"round trip\" conversion from and back to meters is consistent \n",
    "\n",
    "Check for 3 different values of height in meters"
   ]
  },
  {
   "cell_type": "code",
   "execution_count": 14,
   "metadata": {},
   "outputs": [
    {
     "data": {
      "text/plain": [
       "('9.843feet', '118.10999999999999inches')"
      ]
     },
     "execution_count": 14,
     "metadata": {},
     "output_type": "execute_result"
    }
   ],
   "source": [
    "meters_to_others(3)"
   ]
  },
  {
   "cell_type": "code",
   "execution_count": 15,
   "metadata": {},
   "outputs": [
    {
     "data": {
      "text/plain": [
       "('3.0m', '3.0m')"
      ]
     },
     "execution_count": 15,
     "metadata": {},
     "output_type": "execute_result"
    }
   ],
   "source": [
    "height_in_meters(9.843, 118.10999999999999)"
   ]
  },
  {
   "cell_type": "code",
   "execution_count": 16,
   "metadata": {},
   "outputs": [
    {
     "data": {
      "text/plain": [
       "('16.405feet', '196.85inches')"
      ]
     },
     "execution_count": 16,
     "metadata": {},
     "output_type": "execute_result"
    }
   ],
   "source": [
    "meters_to_others(5)"
   ]
  },
  {
   "cell_type": "code",
   "execution_count": 17,
   "metadata": {},
   "outputs": [
    {
     "data": {
      "text/plain": [
       "('5.0m', '5.0m')"
      ]
     },
     "execution_count": 17,
     "metadata": {},
     "output_type": "execute_result"
    }
   ],
   "source": [
    "height_in_meters(16.405, 196.85)"
   ]
  },
  {
   "cell_type": "code",
   "execution_count": 18,
   "metadata": {},
   "outputs": [
    {
     "data": {
      "text/plain": [
       "('22.967000000000002feet', '275.59inches')"
      ]
     },
     "execution_count": 18,
     "metadata": {},
     "output_type": "execute_result"
    }
   ],
   "source": [
    "meters_to_others(7)"
   ]
  },
  {
   "cell_type": "code",
   "execution_count": 19,
   "metadata": {},
   "outputs": [
    {
     "data": {
      "text/plain": [
       "('7.0m', '7.0m')"
      ]
     },
     "execution_count": 19,
     "metadata": {},
     "output_type": "execute_result"
    }
   ],
   "source": [
    "height_in_meters(22.967000000000002, 275.59)"
   ]
  },
  {
   "cell_type": "code",
   "execution_count": null,
   "metadata": {},
   "outputs": [],
   "source": []
  }
 ],
 "metadata": {
  "kernelspec": {
   "display_name": "Python 3 (ipykernel)",
   "language": "python",
   "name": "python3"
  },
  "language_info": {
   "codemirror_mode": {
    "name": "ipython",
    "version": 3
   },
   "file_extension": ".py",
   "mimetype": "text/x-python",
   "name": "python",
   "nbconvert_exporter": "python",
   "pygments_lexer": "ipython3",
   "version": "3.8.10"
  }
 },
 "nbformat": 4,
 "nbformat_minor": 4
}
